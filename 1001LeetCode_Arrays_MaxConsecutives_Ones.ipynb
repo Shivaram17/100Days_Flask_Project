{
  "nbformat": 4,
  "nbformat_minor": 0,
  "metadata": {
    "colab": {
      "name": "10068AdvancedPython_Pandas_Unique_isin_value_counts.ipynb",
      "provenance": [],
      "collapsed_sections": [],
      "authorship_tag": "ABX9TyOJdrgibPjC4bLvPG6we37u",
      "include_colab_link": true
    },
    "kernelspec": {
      "name": "python3",
      "display_name": "Python 3"
    },
    "language_info": {
      "name": "python"
    }
  },
  "cells": [
    {
      "cell_type": "markdown",
      "metadata": {
        "id": "view-in-github",
        "colab_type": "text"
      },
      "source": [
        "<a href=\"https://colab.research.google.com/github/Shivaram17/100Days_Flask_Project/blob/main/1001LeetCode_Arrays_MaxConsecutives_Ones.ipynb\" target=\"_parent\"><img src=\"https://colab.research.google.com/assets/colab-badge.svg\" alt=\"Open In Colab\"/></a>"
      ]
    },
    {
      "cell_type": "code",
      "source": [
        "# Leetcode Arrays - 01 Maximum consecutives of 1's\n",
        "from typing import List\n",
        "class Solution:\n",
        "    def findMaxConsecutiveOnes(self, nums: List[int]) -> int:\n",
        "        count = 0\n",
        "        result = 0\n",
        "        for i in range(len(nums)):\n",
        "            if nums[i] == 1:\n",
        "                count = count + 1\n",
        "                result = max(result, count)\n",
        "            else:\n",
        "                count = 0\n",
        "        return result\n",
        "nums = [1,0,1,1,1,0,1]\n",
        "\n",
        "obj = Solution()\n",
        "obj.findMaxConsecutiveOnes(nums)"
      ],
      "metadata": {
        "id": "ScHL15OaC0pw",
        "colab": {
          "base_uri": "https://localhost:8080/"
        },
        "outputId": "28b6fdad-5772-4b24-cf32-0d2c7f1fea55"
      },
      "execution_count": 9,
      "outputs": [
        {
          "output_type": "execute_result",
          "data": {
            "text/plain": [
              "3"
            ]
          },
          "metadata": {},
          "execution_count": 9
        }
      ]
    },
    {
      "cell_type": "code",
      "source": [
        ""
      ],
      "metadata": {
        "id": "wnjjzLODNlGF"
      },
      "execution_count": null,
      "outputs": []
    }
  ]
}