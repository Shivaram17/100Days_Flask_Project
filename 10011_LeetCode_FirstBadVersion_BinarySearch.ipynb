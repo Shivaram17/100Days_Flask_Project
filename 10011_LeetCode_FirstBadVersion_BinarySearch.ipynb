{
  "nbformat": 4,
  "nbformat_minor": 0,
  "metadata": {
    "colab": {
      "name": "10088AdvancedPython_DataWrangling_HierarchicalIndexing.ipynb",
      "provenance": [],
      "collapsed_sections": [],
      "authorship_tag": "ABX9TyM3u1ZJjI8ktuujwQNOkBHP",
      "include_colab_link": true
    },
    "kernelspec": {
      "name": "python3",
      "display_name": "Python 3"
    },
    "language_info": {
      "name": "python"
    }
  },
  "cells": [
    {
      "cell_type": "markdown",
      "metadata": {
        "id": "view-in-github",
        "colab_type": "text"
      },
      "source": [
        "<a href=\"https://colab.research.google.com/github/Shivaram17/100Days_LeetCode/blob/main/10011_LeetCode_FirstBadVersion_BinarySearch.ipynb\" target=\"_parent\"><img src=\"https://colab.research.google.com/assets/colab-badge.svg\" alt=\"Open In Colab\"/></a>"
      ]
    },
    {
      "cell_type": "code",
      "source": [
        "# Hierarchical indexing\n",
        "data1 = pd.Series(np.random.rand(9), index = [['a', 'a', 'a', 'b', 'b', 'b','c','c','d'],\n",
        "                                            [1,2,3,4,5,6,7,8,9]])\n",
        "data1['b']\n",
        "data1[4:]\n",
        "data1['b':'d']\n",
        "data1.loc[['b','d']]\n",
        "data1.loc['b':,:]\n",
        "# Hierarchical data is useful in reshaping the data   and group based operations like forming a pivot table\\\n",
        "data1.unstack().stack()"
      ],
      "metadata": {
        "colab": {
          "base_uri": "https://localhost:8080/"
        },
        "id": "Aho00icnFQ5_",
        "outputId": "3420c3c0-674f-4f5d-dcaf-7c1f45080b00"
      },
      "execution_count": 51,
      "outputs": [
        {
          "output_type": "execute_result",
          "data": {
            "text/plain": [
              "a  1    0.779624\n",
              "   2    0.728688\n",
              "   3    0.046360\n",
              "b  4    0.240540\n",
              "   5    0.788365\n",
              "   6    0.606997\n",
              "c  7    0.567579\n",
              "   8    0.366556\n",
              "d  9    0.023182\n",
              "dtype: float64"
            ]
          },
          "metadata": {},
          "execution_count": 51
        }
      ]
    },
    {
      "cell_type": "code",
      "source": [
        "# The isBadVersion API is already defined for you.\n",
        "# def isBadVersion(version: int) -> bool:\n",
        "\n",
        "class Solution:\n",
        "    def firstBadVersion(self, n: int) -> int:\n",
        "\n",
        "        first = 0\n",
        "        last = n\n",
        "        while first < last:\n",
        "            mid = (first + last)//2\n",
        "            if isBadVersion(mid):\n",
        "                last = mid\n",
        "            else:\n",
        "                first = mid + 1\n",
        "        \n",
        "        return last"
      ],
      "metadata": {
        "id": "rfZSmtNENu08"
      },
      "execution_count": null,
      "outputs": []
    }
  ]
}