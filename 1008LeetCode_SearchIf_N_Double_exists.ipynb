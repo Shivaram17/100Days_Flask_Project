{
  "nbformat": 4,
  "nbformat_minor": 0,
  "metadata": {
    "colab": {
      "name": "10082AdvancedPython_Transform_Detecting&Filters_Outliers.ipynb",
      "provenance": [],
      "collapsed_sections": [],
      "authorship_tag": "ABX9TyOMSFwglhR5wmumPW+6jmC/",
      "include_colab_link": true
    },
    "kernelspec": {
      "name": "python3",
      "display_name": "Python 3"
    },
    "language_info": {
      "name": "python"
    }
  },
  "cells": [
    {
      "cell_type": "markdown",
      "metadata": {
        "id": "view-in-github",
        "colab_type": "text"
      },
      "source": [
        "<a href=\"https://colab.research.google.com/github/Shivaram17/100Days_LeetCode/blob/main/1009LeetCode_SearchIf_N_Double_exists.ipynb\" target=\"_parent\"><img src=\"https://colab.research.google.com/assets/colab-badge.svg\" alt=\"Open In Colab\"/></a>"
      ]
    },
    {
      "cell_type": "code",
      "source": [
        "# discretization and binning\n",
        "import pandas as pd\n",
        "ages = [20,21,22,25,27,28,29,30,32,34]\n",
        "\n",
        "bins = [18, 25, 28, 32, 34]\n",
        "\n",
        "cats = pd.cut(ages, bins)\n",
        "\n",
        "cats.codes\n",
        "cats.categories\n",
        "pd.value_counts(cats)\n"
      ],
      "metadata": {
        "id": "EKXSz2gBjBrE",
        "colab": {
          "base_uri": "https://localhost:8080/"
        },
        "outputId": "6666fa0f-e4c8-407a-e98c-4089a4936f10"
      },
      "execution_count": null,
      "outputs": [
        {
          "output_type": "execute_result",
          "data": {
            "text/plain": [
              "(18, 25]    4\n",
              "(28, 32]    3\n",
              "(25, 28]    2\n",
              "(32, 34]    1\n",
              "dtype: int64"
            ]
          },
          "metadata": {},
          "execution_count": 5
        }
      ]
    },
    {
      "cell_type": "code",
      "source": [
        "# Detecting and filters outliers\n",
        "import numpy as np\n",
        "data = pd.DataFrame(np.random.randn(1000,4))\n",
        "data.describe()\n",
        "col = data[2]\n",
        "col[np.abs(col) > 0.6].max()"
      ],
      "metadata": {
        "colab": {
          "base_uri": "https://localhost:8080/"
        },
        "id": "5jnasw9soUSW",
        "outputId": "fef93830-84c2-4f82-9f5c-be90cdafb8b2"
      },
      "execution_count": null,
      "outputs": [
        {
          "output_type": "execute_result",
          "data": {
            "text/plain": [
              "2.8233200619822263"
            ]
          },
          "metadata": {},
          "execution_count": 13
        }
      ]
    },
    {
      "cell_type": "code",
      "source": [
        "# Check if N and it Double exists:\n",
        "# Brute force with time complexity O(n*n) and space complexity O(1)\n",
        "class Solution:\n",
        "    def checkIfExist(self, arr):\n",
        "        l = len(arr)\n",
        "        for i in range(l):\n",
        "            for j in range(l):\n",
        "                if i != j:\n",
        "                    if arr[i] == (2 * arr[j]):\n",
        "                        return True\n",
        "        return False\n",
        "arr = [10,2,23, 4,6]\n",
        "obj = Solution()\n",
        "obj.checkIfExist(arr)"
      ],
      "metadata": {
        "id": "e4m2MRjdr47r",
        "colab": {
          "base_uri": "https://localhost:8080/"
        },
        "outputId": "112a5c03-e4f9-47ab-f53e-1d82efe569cf"
      },
      "execution_count": 3,
      "outputs": [
        {
          "output_type": "execute_result",
          "data": {
            "text/plain": [
              "True"
            ]
          },
          "metadata": {},
          "execution_count": 3
        }
      ]
    },
    {
      "cell_type": "code",
      "source": [
        "# Check if N and it Double exists:\n",
        "# Enhanced logic with time complexity O(n) and space complexity O(n)\n",
        "from collections import defaultdict\n",
        "class Solution:\n",
        "    def checkIfExist(self, arr):\n",
        "        l = len(arr)\n",
        "        dict_num = defaultdict()\n",
        "        for i in range(l):\n",
        "            if (2*arr[i] in dict_num) or (arr[i]/2) in dict_num:\n",
        "                print(arr[i])\n",
        "                print(dict_num)\n",
        "                return True\n",
        "            else: \n",
        "                dict_num[arr[i]] = i\n",
        "                #print(dict_num)\n",
        "        \n",
        "        return False\n",
        "arr = [3,1,7,11]\n",
        "obj = Solution()\n",
        "obj.checkIfExist(arr)"
      ],
      "metadata": {
        "colab": {
          "base_uri": "https://localhost:8080/"
        },
        "id": "O7oVEM85gZ_X",
        "outputId": "8b58c0d9-e6a1-4cb1-f5a4-0357e18a0422"
      },
      "execution_count": 24,
      "outputs": [
        {
          "output_type": "execute_result",
          "data": {
            "text/plain": [
              "False"
            ]
          },
          "metadata": {},
          "execution_count": 24
        }
      ]
    },
    {
      "cell_type": "code",
      "source": [
        ""
      ],
      "metadata": {
        "id": "EuhjVoq5iced"
      },
      "execution_count": null,
      "outputs": []
    }
  ]
}
