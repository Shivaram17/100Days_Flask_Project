{
  "nbformat": 4,
  "nbformat_minor": 0,
  "metadata": {
    "colab": {
      "name": "10084AdvancedPython_StringManipulation_ObjectMethods.ipynb",
      "provenance": [],
      "collapsed_sections": [],
      "authorship_tag": "ABX9TyNPEJNtg0RbMetBdwEl1JE7",
      "include_colab_link": true
    },
    "kernelspec": {
      "name": "python3",
      "display_name": "Python 3"
    },
    "language_info": {
      "name": "python"
    }
  },
  "cells": [
    {
      "cell_type": "markdown",
      "metadata": {
        "id": "view-in-github",
        "colab_type": "text"
      },
      "source": [
        "<a href=\"https://colab.research.google.com/github/Shivaram17/100Days_LeetCode/blob/main/10011_LeetCode_Stack_BalancedBrackets.ipynb\" target=\"_parent\"><img src=\"https://colab.research.google.com/assets/colab-badge.svg\" alt=\"Open In Colab\"/></a>"
      ]
    },
    {
      "cell_type": "code",
      "source": [
        "a= ['{','[']\n",
        "d = {'{':'}', '[':']'}\n",
        "if not a:\n",
        "  print('hi')\n",
        "if ']' == d.get(a[-1]):\n",
        "  print('found')"
      ],
      "metadata": {
        "colab": {
          "base_uri": "https://localhost:8080/"
        },
        "id": "9sZ6nRuA6SDh",
        "outputId": "3e7e680c-c6c9-4706-86b6-583646fd6cc5"
      },
      "execution_count": 19,
      "outputs": [
        {
          "output_type": "stream",
          "name": "stdout",
          "text": [
            "found\n"
          ]
        }
      ]
    },
    {
      "cell_type": "code",
      "source": [
        "#!/bin/python3\n",
        "\n",
        "import math\n",
        "import os\n",
        "import random\n",
        "import re\n",
        "import sys\n",
        "\n",
        "#\n",
        "# Complete the 'isBalanced' function below.\n",
        "#\n",
        "# The function is expected to return a STRING.\n",
        "# The function accepts STRING s as parameter.\n",
        "#\n",
        "\n",
        "def isBalanced(s):\n",
        "    # Write your code here\n",
        "    stack = []\n",
        "    #dict for input strings\n",
        "    pairs = {'{':'}', '[':']', '(':')'}\n",
        "    for i in s:\n",
        "        if not stack:\n",
        "            stack.append(i)\n",
        "        elif i == pairs.get(stack[-1]):\n",
        "            # remove matched element\n",
        "            stack.pop()\n",
        "        else:\n",
        "            stack.append(i)\n",
        "    # if stack is empty return YES else NO\n",
        "    return 'YES' if not stack else 'NO'\n",
        "\n",
        "    \n",
        "    # l1 = ['[','{','(']\n",
        "    # l2 = [']', '}', ')']\n",
        "    # k1 = ['[', ']']\n",
        "    # k2 = ['{','}']\n",
        "    # k3 = ['(', ')']\n",
        "    # arr = list()\n",
        "    # c = ''\n",
        "    # count = 0\n",
        "    # for i in s:\n",
        "    #     if i in l1:\n",
        "    #         arr.append(i)\n",
        "    #         c = i\n",
        "    #     elif i in l2:\n",
        "    #         if c in k1 and i in k1:\n",
        "    #             arr.pop()\n",
        "    #             arr.pop()\n",
        "    #             a = len(arr) - 1\n",
        "    #             c = arr[a]\n",
        "    #             count = count + 2\n",
        "    #         elif c in k2 and i in k2:\n",
        "    #             arr.pop()\n",
        "    #             arr.pop()\n",
        "    #             a = len(arr) - 1\n",
        "    #             c = arr[a]\n",
        "    #             count = count + 2\n",
        "    #         elif c in k3 and i in k3:\n",
        "    #             arr.pop()\n",
        "    #             arr.pop()\n",
        "    #             a = len(arr) - 1\n",
        "    #             c = arr[a]\n",
        "    #             count = count + 2\n",
        "    #     else:\n",
        "    #         return 'NO'\n",
        "    #     if count == len(s):\n",
        "    #         print(count, len(s))\n",
        "    #         return 'YES'\n",
        "    #     else:\n",
        "    #         return 'NO'\n",
        "            \n",
        "\n",
        "if __name__ == '__main__':\n",
        "    fptr = open(os.environ['OUTPUT_PATH'], 'w')\n",
        "\n",
        "    t = int(input().strip())\n",
        "\n",
        "    for t_itr in range(t):\n",
        "        s = input()\n",
        "\n",
        "        result = isBalanced(s)\n",
        "\n",
        "        fptr.write(result + '\\n')\n",
        "\n",
        "    fptr.close()\n"
      ],
      "metadata": {
        "id": "O1aKVGclNIix"
      },
      "execution_count": null,
      "outputs": []
    }
  ]
}