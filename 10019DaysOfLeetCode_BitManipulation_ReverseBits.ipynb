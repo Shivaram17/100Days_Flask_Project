{
  "nbformat": 4,
  "nbformat_minor": 0,
  "metadata": {
    "colab": {
      "name": "10019DaysOfLeetCode_BitManipulation_ReverseBits.ipynb",
      "provenance": [],
      "collapsed_sections": [],
      "authorship_tag": "ABX9TyOJYq/cdiarrxsDVwpLLGs9",
      "include_colab_link": true
    },
    "kernelspec": {
      "name": "python3",
      "display_name": "Python 3"
    },
    "language_info": {
      "name": "python"
    }
  },
  "cells": [
    {
      "cell_type": "markdown",
      "metadata": {
        "id": "view-in-github",
        "colab_type": "text"
      },
      "source": [
        "<a href=\"https://colab.research.google.com/github/Shivaram17/100Days_LeetCode/blob/main/10019DaysOfLeetCode_BitManipulation_ReverseBits.ipynb\" target=\"_parent\"><img src=\"https://colab.research.google.com/assets/colab-badge.svg\" alt=\"Open In Colab\"/></a>"
      ]
    },
    {
      "cell_type": "code",
      "source": [
        "class Solution:\n",
        "   def reverseBits(self, n):\n",
        "        # step 1 reverse the bits\n",
        "        # step 2 convert binary to decimal\n",
        "        res = 0\n",
        "        for i in range(32):\n",
        "            bit = (n >> i) & 1 # do a right shift by i and 1\n",
        "            res = res | (bit << (31-i)) # then or res with 31-i left shift bit\n",
        "        return res\n",
        "n = 0\n",
        "obj = Solution()\n",
        "obj.reverseBits(n)"
      ],
      "metadata": {
        "id": "lD8BZZ93-k6i",
        "colab": {
          "base_uri": "https://localhost:8080/"
        },
        "outputId": "079bac65-97a1-410a-fee0-3753d556d4aa"
      },
      "execution_count": 3,
      "outputs": [
        {
          "output_type": "execute_result",
          "data": {
            "text/plain": [
              "0"
            ]
          },
          "metadata": {},
          "execution_count": 3
        }
      ]
    },
    {
      "cell_type": "code",
      "source": [
        ""
      ],
      "metadata": {
        "id": "8qKlTmBeTohl"
      },
      "execution_count": null,
      "outputs": []
    }
  ]
}