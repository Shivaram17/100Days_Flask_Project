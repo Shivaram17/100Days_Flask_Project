{
  "nbformat": 4,
  "nbformat_minor": 0,
  "metadata": {
    "colab": {
      "name": "10024DaysOfLeetCode_Stack_ValidParentheses.ipynb",
      "provenance": [],
      "collapsed_sections": [],
      "authorship_tag": "ABX9TyPlxrlopE5XVn/hPvHdPSZn",
      "include_colab_link": true
    },
    "kernelspec": {
      "name": "python3",
      "display_name": "Python 3"
    },
    "language_info": {
      "name": "python"
    }
  },
  "cells": [
    {
      "cell_type": "markdown",
      "metadata": {
        "id": "view-in-github",
        "colab_type": "text"
      },
      "source": [
        "<a href=\"https://colab.research.google.com/github/Shivaram17/100Days_LeetCode/blob/main/10024DaysOfLeetCode_Stack_ValidParentheses.ipynb\" target=\"_parent\"><img src=\"https://colab.research.google.com/assets/colab-badge.svg\" alt=\"Open In Colab\"/></a>"
      ]
    },
    {
      "cell_type": "code",
      "source": [
        "class Solution:\n",
        "  def isValid(self, s: str) -> bool:\n",
        "        stack = []\n",
        "        closeToOpen = {')':'(', '}':'{', ']':'['}\n",
        "        for i in s:\n",
        "            if i in closeToOpen:\n",
        "                if stack and stack[-1] == closeToOpen[i]:\n",
        "                    stack.pop()\n",
        "                else:\n",
        "                    return False\n",
        "            else:\n",
        "                stack.append(i)\n",
        "        return True if not stack else False\n",
        "           \n",
        "        \n",
        "n = '((())){}[]{{[()]}}'\n",
        "obj = Solution()\n",
        "obj.isValid(n)"
      ],
      "metadata": {
        "id": "lD8BZZ93-k6i",
        "colab": {
          "base_uri": "https://localhost:8080/"
        },
        "outputId": "b552e9f4-6234-4c96-e470-46918f60c022"
      },
      "execution_count": 1,
      "outputs": [
        {
          "output_type": "execute_result",
          "data": {
            "text/plain": [
              "True"
            ]
          },
          "metadata": {},
          "execution_count": 1
        }
      ]
    },
    {
      "cell_type": "code",
      "source": [
        ""
      ],
      "metadata": {
        "id": "Dmy29HBagG7t"
      },
      "execution_count": null,
      "outputs": []
    }
  ]
}