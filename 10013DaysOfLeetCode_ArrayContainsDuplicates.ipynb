{
  "nbformat": 4,
  "nbformat_minor": 0,
  "metadata": {
    "colab": {
      "name": "10013DaysOfLeetCode_ArrayContainsDuplicates.ipynb",
      "provenance": [],
      "collapsed_sections": [],
      "authorship_tag": "ABX9TyN0Pq+HNVymPXsnqs8LRpIX",
      "include_colab_link": true
    },
    "kernelspec": {
      "name": "python3",
      "display_name": "Python 3"
    },
    "language_info": {
      "name": "python"
    }
  },
  "cells": [
    {
      "cell_type": "markdown",
      "metadata": {
        "id": "view-in-github",
        "colab_type": "text"
      },
      "source": [
        "<a href=\"https://colab.research.google.com/github/Shivaram17/100Days_LeetCode/blob/main/10013DaysOfLeetCode_ArrayContainsDuplicates.ipynb\" target=\"_parent\"><img src=\"https://colab.research.google.com/assets/colab-badge.svg\" alt=\"Open In Colab\"/></a>"
      ]
    },
    {
      "cell_type": "code",
      "source": [
        "class Solution:\n",
        "    def containsDuplicate(self, nums):\n",
        "        # # brute force\n",
        "        # l = []\n",
        "        # count = 0\n",
        "        # for i in nums:\n",
        "        #     if i in l:\n",
        "        #         return True\n",
        "        #     else:\n",
        "        #         l.append(i)\n",
        "        #         count = count + 1\n",
        "        # if count == len(l) - 1:\n",
        "        #     return False\n",
        "        \n",
        "        # hashset time complexity = O(n) and space complexity O(n)\n",
        "        Hashset = set()\n",
        "        for i in nums:\n",
        "            if i in Hashset:\n",
        "                return True\n",
        "            Hashset.add(i)\n",
        "        return False\n",
        "nums = [1,2,3,4,2]\n",
        "obj = Solution()\n",
        "obj.containsDuplicate(nums)"
      ],
      "metadata": {
        "id": "lD8BZZ93-k6i",
        "colab": {
          "base_uri": "https://localhost:8080/"
        },
        "outputId": "20b6a42f-897b-4fcb-a136-523896fec4b6"
      },
      "execution_count": 1,
      "outputs": [
        {
          "output_type": "execute_result",
          "data": {
            "text/plain": [
              "True"
            ]
          },
          "metadata": {},
          "execution_count": 1
        }
      ]
    },
    {
      "cell_type": "code",
      "source": [
        ""
      ],
      "metadata": {
        "id": "CqKcj5uvl7jn"
      },
      "execution_count": null,
      "outputs": []
    }
  ]
}