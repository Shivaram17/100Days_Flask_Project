{
  "nbformat": 4,
  "nbformat_minor": 0,
  "metadata": {
    "colab": {
      "name": "10020DaysOfLeetCode_BitManipulation_missingNumber.ipynb",
      "provenance": [],
      "collapsed_sections": [],
      "authorship_tag": "ABX9TyMGXEV9Cpl2/7/ivdUOvdXa",
      "include_colab_link": true
    },
    "kernelspec": {
      "name": "python3",
      "display_name": "Python 3"
    },
    "language_info": {
      "name": "python"
    }
  },
  "cells": [
    {
      "cell_type": "markdown",
      "metadata": {
        "id": "view-in-github",
        "colab_type": "text"
      },
      "source": [
        "<a href=\"https://colab.research.google.com/github/Shivaram17/100Days_LeetCode/blob/main/10020DaysOfLeetCode_BitManipulation_missingNumber.ipynb\" target=\"_parent\"><img src=\"https://colab.research.google.com/assets/colab-badge.svg\" alt=\"Open In Colab\"/></a>"
      ]
    },
    {
      "cell_type": "code",
      "source": [
        "class Solution:\n",
        "   def missingNumber(self, nums):\n",
        "        # method 1 O(n), O(1)\n",
        "        for i in range(len(nums)+1):\n",
        "            if i not in nums:\n",
        "                return i\n",
        "            \n",
        "        # method 2 \n",
        "#         r = len(nums) +1\n",
        "        \n",
        "#         a = [k^m, for k,m in zip(nums,nums2)]\n",
        "n = [0,2,3]\n",
        "obj = Solution()\n",
        "obj.missingNumber(n)"
      ],
      "metadata": {
        "id": "lD8BZZ93-k6i",
        "colab": {
          "base_uri": "https://localhost:8080/"
        },
        "outputId": "f37525de-8641-4585-860a-c7ce7c861e0f"
      },
      "execution_count": 1,
      "outputs": [
        {
          "output_type": "execute_result",
          "data": {
            "text/plain": [
              "1"
            ]
          },
          "metadata": {},
          "execution_count": 1
        }
      ]
    },
    {
      "cell_type": "code",
      "source": [
        ""
      ],
      "metadata": {
        "id": "8qKlTmBeTohl"
      },
      "execution_count": null,
      "outputs": []
    }
  ]
}