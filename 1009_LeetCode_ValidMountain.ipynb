{
  "nbformat": 4,
  "nbformat_minor": 0,
  "metadata": {
    "colab": {
      "name": "10082AdvancedPython_Transform_Detecting&Filters_Outliers.ipynb",
      "provenance": [],
      "collapsed_sections": [],
      "authorship_tag": "ABX9TyPJZsEwFhlw9PcE6J5VCrP+",
      "include_colab_link": true
    },
    "kernelspec": {
      "name": "python3",
      "display_name": "Python 3"
    },
    "language_info": {
      "name": "python"
    }
  },
  "cells": [
    {
      "cell_type": "markdown",
      "metadata": {
        "id": "view-in-github",
        "colab_type": "text"
      },
      "source": [
        "<a href=\"https://colab.research.google.com/github/Shivaram17/100Days_LeetCode/blob/main/1009_LeetCode_ValidMountain.ipynb\" target=\"_parent\"><img src=\"https://colab.research.google.com/assets/colab-badge.svg\" alt=\"Open In Colab\"/></a>"
      ]
    },
    {
      "cell_type": "code",
      "source": [
        "def check(s):\n",
        "  count = 0\n",
        "  for i in s:\n",
        "    if i == '0':\n",
        "      count = count + 1\n",
        "  return count\n",
        "\n",
        "check('1000001')"
      ],
      "metadata": {
        "colab": {
          "base_uri": "https://localhost:8080/"
        },
        "id": "EuhjVoq5iced",
        "outputId": "75543b7a-ecf6-4168-cc5a-5a8c7c2ba30e"
      },
      "execution_count": 29,
      "outputs": [
        {
          "output_type": "execute_result",
          "data": {
            "text/plain": [
              "5"
            ]
          },
          "metadata": {},
          "execution_count": 29
        }
      ]
    },
    {
      "cell_type": "code",
      "source": [
        "# ValidMountain\n",
        "class Solution:\n",
        "    def validMountainArray(self, arr):\n",
        "        l = len(arr)\n",
        "        c = 0\n",
        "        if l >= 3 and (arr[0] < arr[1]):\n",
        "            for i in range(l-1):\n",
        "                if arr[i] < arr[i+1]:\n",
        "                    c +=1\n",
        "                else:\n",
        "                    break\n",
        "            print(\"c is: \",c)\n",
        "            k = c\n",
        "            for j in range(c,l-1):\n",
        "                if arr[j] > arr[j+1]:\n",
        "                    k=k+1\n",
        "            print(k, l-1)\n",
        "            if  c!= l-1 and k == l-1:\n",
        "                print(k, l-1)\n",
        "                return True\n",
        "            else:\n",
        "                return False\n",
        "        return False\n",
        "\n",
        "arr = [0,1,2,3,2,1]\n",
        "obj = Solution()\n",
        "obj.validMountainArray(arr)"
      ],
      "metadata": {
        "colab": {
          "base_uri": "https://localhost:8080/"
        },
        "id": "eWCLq4UvJZ4d",
        "outputId": "becefbe1-4241-4cf2-e73a-37d64deab588"
      },
      "execution_count": 1,
      "outputs": [
        {
          "output_type": "stream",
          "name": "stdout",
          "text": [
            "c is:  3\n",
            "5 5\n",
            "5 5\n"
          ]
        },
        {
          "output_type": "execute_result",
          "data": {
            "text/plain": [
              "True"
            ]
          },
          "metadata": {},
          "execution_count": 1
        }
      ]
    },
    {
      "cell_type": "code",
      "source": [
        ""
      ],
      "metadata": {
        "id": "2-yYE6L6rYBO"
      },
      "execution_count": null,
      "outputs": []
    }
  ]
}