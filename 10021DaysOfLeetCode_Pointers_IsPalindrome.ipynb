{
  "nbformat": 4,
  "nbformat_minor": 0,
  "metadata": {
    "colab": {
      "name": "10021DaysOfLeetCode_Pointers_IsPalindrome.ipynb",
      "provenance": [],
      "collapsed_sections": [],
      "authorship_tag": "ABX9TyPYXUtgFD/PM5WTnZJV0cMW",
      "include_colab_link": true
    },
    "kernelspec": {
      "name": "python3",
      "display_name": "Python 3"
    },
    "language_info": {
      "name": "python"
    }
  },
  "cells": [
    {
      "cell_type": "markdown",
      "metadata": {
        "id": "view-in-github",
        "colab_type": "text"
      },
      "source": [
        "<a href=\"https://colab.research.google.com/github/Shivaram17/100Days_LeetCode/blob/main/10021DaysOfLeetCode_Pointers_IsPalindrome.ipynb\" target=\"_parent\"><img src=\"https://colab.research.google.com/assets/colab-badge.svg\" alt=\"Open In Colab\"/></a>"
      ]
    },
    {
      "cell_type": "code",
      "source": [
        "class Solution:\n",
        "  def isPalindrome(self, s: str) -> bool:\n",
        "        # check if alphanumeric or not\n",
        "        newStr = \"\"\n",
        "        for c in s:\n",
        "            if c.isalnum():\n",
        "                newStr += c.lower()\n",
        "        return newStr == newStr[::-1]\n",
        "n = 'ama,ma'\n",
        "obj = Solution()\n",
        "obj.isPalindrome(n)"
      ],
      "metadata": {
        "id": "lD8BZZ93-k6i",
        "colab": {
          "base_uri": "https://localhost:8080/"
        },
        "outputId": "094efd87-84d2-41c3-d12e-87ed3c844ded"
      },
      "execution_count": 28,
      "outputs": [
        {
          "output_type": "execute_result",
          "data": {
            "text/plain": [
              "True"
            ]
          },
          "metadata": {},
          "execution_count": 28
        }
      ]
    },
    {
      "cell_type": "code",
      "source": [
        ""
      ],
      "metadata": {
        "id": "4dyBc4EMndem"
      },
      "execution_count": null,
      "outputs": []
    }
  ]
}