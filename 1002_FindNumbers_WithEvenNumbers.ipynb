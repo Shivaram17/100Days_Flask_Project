{
  "nbformat": 4,
  "nbformat_minor": 0,
  "metadata": {
    "colab": {
      "name": "10071AdvancedPython_Pandas_csv_WritingTextFiles.ipynb",
      "provenance": [],
      "collapsed_sections": [],
      "authorship_tag": "ABX9TyOGeJNTOgff3v/XI4WN2zon",
      "include_colab_link": true
    },
    "kernelspec": {
      "name": "python3",
      "display_name": "Python 3"
    },
    "language_info": {
      "name": "python"
    }
  },
  "cells": [
    {
      "cell_type": "markdown",
      "metadata": {
        "id": "view-in-github",
        "colab_type": "text"
      },
      "source": [
        "<a href=\"https://colab.research.google.com/github/Shivaram17/100Days_LeetCode/blob/main/1002_FindNumbers_WithEvenNumbers.ipynb\" target=\"_parent\"><img src=\"https://colab.research.google.com/assets/colab-badge.svg\" alt=\"Open In Colab\"/></a>"
      ]
    },
    {
      "cell_type": "code",
      "source": [
        "# Find the numbers with even number of digits\n",
        "class Solution:\n",
        "    def findNumbers(self, nums):\n",
        "        count = 0\n",
        "        for i in nums:\n",
        "            # map method\n",
        "            #c = list(map(int, str(i)))\n",
        "            # list comprehension to convert an integer to an list\n",
        "            c = [int(x) for x in str(i)]\n",
        "            l = len(c)\n",
        "            # sum = 0\n",
        "            # for j in c:\n",
        "            #     if (j == 1) or (j%2 == 0):\n",
        "            #         sum =sum + 1\n",
        "            #         if (sum == l) and (sum % 2 == 0): \n",
        "            if l%2 == 0:\n",
        "                count = count + 1\n",
        "        return count\n",
        "\n",
        "obj = Solution()\n",
        "nums = [12,3,453,2311,233232]\n",
        "obj.findNumbers(nums)\n"
      ],
      "metadata": {
        "id": "Ff583e6MXHPm",
        "colab": {
          "base_uri": "https://localhost:8080/"
        },
        "outputId": "54b71784-beeb-41d7-fc5b-052eecd797ca"
      },
      "execution_count": 9,
      "outputs": [
        {
          "output_type": "execute_result",
          "data": {
            "text/plain": [
              "3"
            ]
          },
          "metadata": {},
          "execution_count": 9
        }
      ]
    },
    {
      "cell_type": "code",
      "source": [
        ""
      ],
      "metadata": {
        "id": "wJgF7quphvDF"
      },
      "execution_count": null,
      "outputs": []
    }
  ]
}