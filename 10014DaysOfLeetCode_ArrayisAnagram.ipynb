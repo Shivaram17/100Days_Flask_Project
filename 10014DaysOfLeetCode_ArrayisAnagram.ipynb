{
  "nbformat": 4,
  "nbformat_minor": 0,
  "metadata": {
    "colab": {
      "name": "10014DaysOfLeetCode_ArrayisAnagram.ipynb",
      "provenance": [],
      "collapsed_sections": [],
      "authorship_tag": "ABX9TyOQOA1CNd371tfUqGnkihfx",
      "include_colab_link": true
    },
    "kernelspec": {
      "name": "python3",
      "display_name": "Python 3"
    },
    "language_info": {
      "name": "python"
    }
  },
  "cells": [
    {
      "cell_type": "markdown",
      "metadata": {
        "id": "view-in-github",
        "colab_type": "text"
      },
      "source": [
        "<a href=\"https://colab.research.google.com/github/Shivaram17/100Days_LeetCode/blob/main/10014DaysOfLeetCode_ArrayisAnagram.ipynb\" target=\"_parent\"><img src=\"https://colab.research.google.com/assets/colab-badge.svg\" alt=\"Open In Colab\"/></a>"
      ]
    },
    {
      "cell_type": "code",
      "source": [
        "class Solution:\n",
        "    def isAnagram(self, s, t):\n",
        "        str_1 = s.split()\n",
        "        str_2 = t.split()\n",
        "        \n",
        "        if len(s) == len(t):\n",
        "            for i in t:\n",
        "                print(i)\n",
        "                print(\"str1: \",s.count(i), t.count(i))\n",
        "                if s.count(i) != t.count(i):\n",
        "                    return False\n",
        "                elif i not in s:\n",
        "                    return False\n",
        "            return True\n",
        "nums = 'aacc'\n",
        "t = 'ccac'\n",
        "obj = Solution()\n",
        "obj.isAnagram(nums,t)"
      ],
      "metadata": {
        "id": "lD8BZZ93-k6i",
        "colab": {
          "base_uri": "https://localhost:8080/"
        },
        "outputId": "5991af9a-6d9b-4e36-f6e5-49dca8a39fc3"
      },
      "execution_count": 1,
      "outputs": [
        {
          "output_type": "stream",
          "name": "stdout",
          "text": [
            "c\n",
            "str1:  2 3\n"
          ]
        },
        {
          "output_type": "execute_result",
          "data": {
            "text/plain": [
              "False"
            ]
          },
          "metadata": {},
          "execution_count": 1
        }
      ]
    },
    {
      "cell_type": "code",
      "source": [
        ""
      ],
      "metadata": {
        "id": "CqKcj5uvl7jn"
      },
      "execution_count": null,
      "outputs": []
    }
  ]
}