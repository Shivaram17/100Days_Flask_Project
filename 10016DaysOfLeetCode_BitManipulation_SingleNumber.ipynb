{
  "nbformat": 4,
  "nbformat_minor": 0,
  "metadata": {
    "colab": {
      "name": "10016DaysOfLeetCode_BitManipulation_SingleNumber.ipynb",
      "provenance": [],
      "collapsed_sections": [],
      "authorship_tag": "ABX9TyOvPxvstQhovcaIz8x72dFv",
      "include_colab_link": true
    },
    "kernelspec": {
      "name": "python3",
      "display_name": "Python 3"
    },
    "language_info": {
      "name": "python"
    }
  },
  "cells": [
    {
      "cell_type": "markdown",
      "metadata": {
        "id": "view-in-github",
        "colab_type": "text"
      },
      "source": [
        "<a href=\"https://colab.research.google.com/github/Shivaram17/100Days_LeetCode/blob/main/10016DaysOfLeetCode_BitManipulation_SingleNumber.ipynb\" target=\"_parent\"><img src=\"https://colab.research.google.com/assets/colab-badge.svg\" alt=\"Open In Colab\"/></a>"
      ]
    },
    {
      "cell_type": "code",
      "source": [
        "class Solution:\n",
        "   def singleNumber(self, nums):\n",
        "        # without bit manipulation\n",
        "        # for i in  range(len(nums)):\n",
        "        #     # print(nums.count(nums[i]))\n",
        "        #     if nums.count(nums[i]) < 2:\n",
        "        #         return nums[i]\n",
        "        \n",
        "        # using bit manipulation\n",
        "        res = 0 # n^0= n\n",
        "        for i in nums:\n",
        "            res = i ^ res\n",
        "            print(res)\n",
        "        return res\n",
        "nums = [2,7,7,1,1]\n",
        "\n",
        "obj = Solution()\n",
        "obj.singleNumber(nums)"
      ],
      "metadata": {
        "id": "lD8BZZ93-k6i",
        "colab": {
          "base_uri": "https://localhost:8080/"
        },
        "outputId": "52893bb6-6fa8-4e11-de0d-8af6ef3714e6"
      },
      "execution_count": 5,
      "outputs": [
        {
          "output_type": "stream",
          "name": "stdout",
          "text": [
            "2\n",
            "5\n",
            "2\n",
            "3\n",
            "2\n"
          ]
        },
        {
          "output_type": "execute_result",
          "data": {
            "text/plain": [
              "2"
            ]
          },
          "metadata": {},
          "execution_count": 5
        }
      ]
    },
    {
      "cell_type": "code",
      "source": [
        ""
      ],
      "metadata": {
        "id": "CqKcj5uvl7jn"
      },
      "execution_count": null,
      "outputs": []
    }
  ]
}