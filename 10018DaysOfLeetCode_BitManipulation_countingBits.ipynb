{
  "nbformat": 4,
  "nbformat_minor": 0,
  "metadata": {
    "colab": {
      "name": "10018DaysOfLeetCode_BitManipulation_countingBits.ipynb",
      "provenance": [],
      "collapsed_sections": [],
      "authorship_tag": "ABX9TyPbQEUFNlvMHFWJB/tyerxH",
      "include_colab_link": true
    },
    "kernelspec": {
      "name": "python3",
      "display_name": "Python 3"
    },
    "language_info": {
      "name": "python"
    }
  },
  "cells": [
    {
      "cell_type": "markdown",
      "metadata": {
        "id": "view-in-github",
        "colab_type": "text"
      },
      "source": [
        "<a href=\"https://colab.research.google.com/github/Shivaram17/100Days_LeetCode/blob/main/10018DaysOfLeetCode_BitManipulation_countingBits.ipynb\" target=\"_parent\"><img src=\"https://colab.research.google.com/assets/colab-badge.svg\" alt=\"Open In Colab\"/></a>"
      ]
    },
    {
      "cell_type": "code",
      "source": [
        "class Solution:\n",
        "   def countBits(self, n):\n",
        "        # using dynamic programming\n",
        "        dp = [0] * (n+1)\n",
        "        offset = 1\n",
        "        for i in range(1, n+1):\n",
        "            #check the offset\n",
        "            if offset * 2 == i:\n",
        "                offset = i\n",
        "            dp[i] = 1 + dp[i - offset]\n",
        "        return dp\n",
        "n = 15\n",
        "obj = Solution()\n",
        "obj.countBits(n)"
      ],
      "metadata": {
        "id": "lD8BZZ93-k6i",
        "colab": {
          "base_uri": "https://localhost:8080/"
        },
        "outputId": "1babccdd-d923-47e8-cb7c-1adc88238ee3"
      },
      "execution_count": 3,
      "outputs": [
        {
          "output_type": "execute_result",
          "data": {
            "text/plain": [
              "[0, 1, 1, 2, 1, 2, 2, 3, 1, 2, 2, 3, 2, 3, 3, 4]"
            ]
          },
          "metadata": {},
          "execution_count": 3
        }
      ]
    },
    {
      "cell_type": "code",
      "source": [
        ""
      ],
      "metadata": {
        "id": "8qKlTmBeTohl"
      },
      "execution_count": null,
      "outputs": []
    }
  ]
}