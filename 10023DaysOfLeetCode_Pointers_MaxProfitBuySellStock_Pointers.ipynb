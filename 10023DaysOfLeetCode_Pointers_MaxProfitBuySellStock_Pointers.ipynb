{
  "nbformat": 4,
  "nbformat_minor": 0,
  "metadata": {
    "colab": {
      "name": "10023DaysOfLeetCode_Pointers_MaxProfitBuySellStock_Pointers.ipynb",
      "provenance": [],
      "collapsed_sections": [],
      "authorship_tag": "ABX9TyMyypM0OIR+bPf94P2glWIs",
      "include_colab_link": true
    },
    "kernelspec": {
      "name": "python3",
      "display_name": "Python 3"
    },
    "language_info": {
      "name": "python"
    }
  },
  "cells": [
    {
      "cell_type": "markdown",
      "metadata": {
        "id": "view-in-github",
        "colab_type": "text"
      },
      "source": [
        "<a href=\"https://colab.research.google.com/github/Shivaram17/100Days_LeetCode/blob/main/10023DaysOfLeetCode_Pointers_MaxProfitBuySellStock_Pointers.ipynb\" target=\"_parent\"><img src=\"https://colab.research.google.com/assets/colab-badge.svg\" alt=\"Open In Colab\"/></a>"
      ]
    },
    {
      "cell_type": "code",
      "source": [
        "class Solution:\n",
        "  def maxProfit(self, prices):\n",
        "     # Brute force O(n2)\n",
        "        # max = 0\n",
        "        # for i in range(len(prices)):\n",
        "        #     for j in range(i+1, len(prices)):\n",
        "        #         if prices[j] - prices[i] > 0:\n",
        "        #             if prices[j] - prices[i] > max:\n",
        "        #                 max = prices[j] - prices[i]\n",
        "\n",
        "        # return max\n",
        "        # Two pointer O(n) time O(1) space\n",
        "        l,r = 0, 1 # left = buy right = sell\n",
        "        maxp = 0\n",
        "        while r < len(prices):\n",
        "            if prices[l] < prices[r]:\n",
        "                profit = prices[r] - prices[l]\n",
        "                maxp = max(maxp, profit)\n",
        "            else:\n",
        "                l = r\n",
        "            r +=1\n",
        "        return maxp\n",
        "           \n",
        "        \n",
        "n = [7,5,4,3,2,1]\n",
        "obj = Solution()\n",
        "obj.maxProfit(n)"
      ],
      "metadata": {
        "id": "lD8BZZ93-k6i",
        "colab": {
          "base_uri": "https://localhost:8080/"
        },
        "outputId": "c9b6b018-6b18-4c5b-c101-348aed98504d"
      },
      "execution_count": 6,
      "outputs": [
        {
          "output_type": "execute_result",
          "data": {
            "text/plain": [
              "0"
            ]
          },
          "metadata": {},
          "execution_count": 6
        }
      ]
    },
    {
      "cell_type": "code",
      "source": [
        ""
      ],
      "metadata": {
        "id": "Dmy29HBagG7t"
      },
      "execution_count": null,
      "outputs": []
    }
  ]
}