{
  "nbformat": 4,
  "nbformat_minor": 0,
  "metadata": {
    "colab": {
      "name": "10015DaysOfLeetCode_Array_TwoSum.ipynb",
      "provenance": [],
      "collapsed_sections": [],
      "authorship_tag": "ABX9TyPyFbHcFglhQKx1QLclyCh/",
      "include_colab_link": true
    },
    "kernelspec": {
      "name": "python3",
      "display_name": "Python 3"
    },
    "language_info": {
      "name": "python"
    }
  },
  "cells": [
    {
      "cell_type": "markdown",
      "metadata": {
        "id": "view-in-github",
        "colab_type": "text"
      },
      "source": [
        "<a href=\"https://colab.research.google.com/github/Shivaram17/100Days_LeetCode/blob/main/10015DaysOfLeetCode_Array_TwoSum.ipynb\" target=\"_parent\"><img src=\"https://colab.research.google.com/assets/colab-badge.svg\" alt=\"Open In Colab\"/></a>"
      ]
    },
    {
      "cell_type": "code",
      "source": [
        "class Solution:\n",
        "    def twoSum(self, nums, target):\n",
        "        l = len(nums)\n",
        "        for i in range(l):\n",
        "            for j in range(i+1,l):\n",
        "                if nums[i] + nums[j] == target:\n",
        "                    return i,j\n",
        "                \n",
        "        \n",
        "nums = [2,7,11,9]\n",
        "target = 13\n",
        "obj = Solution()\n",
        "obj.twoSum(nums, target)"
      ],
      "metadata": {
        "id": "lD8BZZ93-k6i",
        "colab": {
          "base_uri": "https://localhost:8080/"
        },
        "outputId": "266dc118-1375-4ae5-a004-dad663311b65"
      },
      "execution_count": 3,
      "outputs": [
        {
          "output_type": "execute_result",
          "data": {
            "text/plain": [
              "(0, 2)"
            ]
          },
          "metadata": {},
          "execution_count": 3
        }
      ]
    },
    {
      "cell_type": "code",
      "source": [
        ""
      ],
      "metadata": {
        "id": "CqKcj5uvl7jn"
      },
      "execution_count": null,
      "outputs": []
    }
  ]
}