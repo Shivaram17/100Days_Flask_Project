{
  "nbformat": 4,
  "nbformat_minor": 0,
  "metadata": {
    "colab": {
      "name": "10022DaysOfLeetCode_Pointers_IsPalindromeMethod2_Pointers.ipynb",
      "provenance": [],
      "collapsed_sections": [],
      "authorship_tag": "ABX9TyM26r6Uw6ZAHED8JXbXkVp/",
      "include_colab_link": true
    },
    "kernelspec": {
      "name": "python3",
      "display_name": "Python 3"
    },
    "language_info": {
      "name": "python"
    }
  },
  "cells": [
    {
      "cell_type": "markdown",
      "metadata": {
        "id": "view-in-github",
        "colab_type": "text"
      },
      "source": [
        "<a href=\"https://colab.research.google.com/github/Shivaram17/100Days_LeetCode/blob/main/10022DaysOfLeetCode_Pointers_IsPalindromeMethod2_Pointers.ipynb\" target=\"_parent\"><img src=\"https://colab.research.google.com/assets/colab-badge.svg\" alt=\"Open In Colab\"/></a>"
      ]
    },
    {
      "cell_type": "code",
      "source": [
        "class Solution:\n",
        "    #i) check if char is alphanumeric or not\n",
        "  def alphaNum(self, c):\n",
        "      # checking ascii value of the char\n",
        "        if (ord('A') <= ord(c) <= ord('Z') or\n",
        "                ord('a') <= ord(c) <= ord('z') or \n",
        "                ord('0') <= ord(c) <= ord('9')):\n",
        "          return True\n",
        "        return False\n",
        "  def isPalindrome(self, s: str) -> bool:\n",
        "      # check if alphanumeric or not Time (n), space (n)\n",
        "      # newStr = \"\"\n",
        "      # for c in s:\n",
        "      #     if c.isalnum():\n",
        "      #         newStr += c.lower()\n",
        "      # return newStr == newStr[::-1]\n",
        "      \n",
        "      # method 2 using pointers\n",
        "      \n",
        "      l, r = 0, len(s) - 1\n",
        "      \n",
        "      while l < r:\n",
        "          # check if char is alphanum or not\n",
        "          while l < r and (not self.alphaNum(s[l])):\n",
        "              l +=1\n",
        "          while r > l and (not self.alphaNum(s[r])):\n",
        "              r -=1\n",
        "              \n",
        "          if s[l].lower() != s[r].lower():\n",
        "              return False\n",
        "          # increment l and decrement r\n",
        "          l, r = l+1, r-1\n",
        "      return True\n",
        "           \n",
        "        \n",
        "n = 'ama,ma'\n",
        "obj = Solution()\n",
        "obj.isPalindrome(n)"
      ],
      "metadata": {
        "id": "lD8BZZ93-k6i",
        "colab": {
          "base_uri": "https://localhost:8080/"
        },
        "outputId": "7d6f1ea0-da72-41f1-fb30-81d1b6f01d30"
      },
      "execution_count": 11,
      "outputs": [
        {
          "output_type": "execute_result",
          "data": {
            "text/plain": [
              "True"
            ]
          },
          "metadata": {},
          "execution_count": 11
        }
      ]
    },
    {
      "cell_type": "code",
      "source": [
        ""
      ],
      "metadata": {
        "id": "4dyBc4EMndem"
      },
      "execution_count": null,
      "outputs": []
    }
  ]
}