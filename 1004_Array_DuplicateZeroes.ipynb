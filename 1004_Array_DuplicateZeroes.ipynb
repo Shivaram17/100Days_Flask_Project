{
  "nbformat": 4,
  "nbformat_minor": 0,
  "metadata": {
    "colab": {
      "name": "10072AdvancedPython_Sort_Key.ipynb",
      "provenance": [],
      "collapsed_sections": [],
      "authorship_tag": "ABX9TyM+GWD6ZoNAt6o+XAe9pvUf",
      "include_colab_link": true
    },
    "kernelspec": {
      "name": "python3",
      "display_name": "Python 3"
    },
    "language_info": {
      "name": "python"
    }
  },
  "cells": [
    {
      "cell_type": "markdown",
      "metadata": {
        "id": "view-in-github",
        "colab_type": "text"
      },
      "source": [
        "<a href=\"https://colab.research.google.com/github/Shivaram17/100Days_LeetCode/blob/main/1004_Array_DuplicateZeroes.ipynb\" target=\"_parent\"><img src=\"https://colab.research.google.com/assets/colab-badge.svg\" alt=\"Open In Colab\"/></a>"
      ]
    },
    {
      "cell_type": "code",
      "source": [
        "import json\n",
        "# JSON string\n",
        "obj = '{\"name\": \"Lalu\", \"age\":12, \"sport\": \"Gully Cricket\"}'\n",
        "# coverting into a python object dict\n",
        "result = json.loads(obj)\n",
        "# converting into a json string \n",
        "result1 = json.dumps(result)\n",
        "result1"
      ],
      "metadata": {
        "colab": {
          "base_uri": "https://localhost:8080/",
          "height": 35
        },
        "id": "DHYe6Ue-lI67",
        "outputId": "22f1a0f5-6a8e-4799-c93e-175a49f4389f"
      },
      "execution_count": null,
      "outputs": [
        {
          "output_type": "execute_result",
          "data": {
            "text/plain": [
              "'{\"name\": \"Lalu\", \"age\": 12, \"sport\": \"Gully Cricket\"}'"
            ],
            "application/vnd.google.colaboratory.intrinsic+json": {
              "type": "string"
            }
          },
          "metadata": {},
          "execution_count": 6
        }
      ]
    },
    {
      "cell_type": "code",
      "source": [
        "class Solution:\n",
        "    def duplicateZeros(self, arr):\n",
        "        \"\"\"\n",
        "        Do not return anything, modify arr in-place instead.\n",
        "        \"\"\"\n",
        "        # iterate through the arr\n",
        "        i = 0\n",
        "        l = len(arr)\n",
        "        while i <(l-1):\n",
        "            if arr[i] == 0:\n",
        "                arr.insert(i+1,0)\n",
        "                del arr[len(arr) - 1]\n",
        "                i = i + 2\n",
        "            else:\n",
        "                i = i + 1\n",
        "        return arr\n",
        "\n",
        "obj = Solution()\n",
        "arr = [1,0,2,3,0,4,5]\n",
        "obj.duplicateZeros(arr)"
      ],
      "metadata": {
        "id": "mjbeP74DXdHZ",
        "colab": {
          "base_uri": "https://localhost:8080/"
        },
        "outputId": "b5b372bf-0cbb-4255-9452-2b3fd4a21c28"
      },
      "execution_count": 4,
      "outputs": [
        {
          "output_type": "execute_result",
          "data": {
            "text/plain": [
              "[1, 0, 0, 2, 3, 0, 0]"
            ]
          },
          "metadata": {},
          "execution_count": 4
        }
      ]
    },
    {
      "cell_type": "code",
      "source": [
        ""
      ],
      "metadata": {
        "id": "rNBCe73OKMRc"
      },
      "execution_count": null,
      "outputs": []
    }
  ]
}